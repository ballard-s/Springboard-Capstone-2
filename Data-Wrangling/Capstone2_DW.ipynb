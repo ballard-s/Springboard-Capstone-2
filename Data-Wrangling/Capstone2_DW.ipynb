{
 "cells": [
  {
   "cell_type": "markdown",
   "metadata": {},
   "source": [
    "## Data Collection"
   ]
  },
  {
   "cell_type": "code",
   "execution_count": 39,
   "metadata": {},
   "outputs": [],
   "source": [
    "#load python packages\n",
    "import os\n",
    "import pandas as pd\n",
    "import matplotlib.pyplot as plt"
   ]
  },
  {
   "cell_type": "code",
   "execution_count": 40,
   "metadata": {},
   "outputs": [
    {
     "data": {
      "text/plain": [
       "'/Users/shannonballard/Springboard/Springboard_Capstone_2'"
      ]
     },
     "execution_count": 40,
     "metadata": {},
     "output_type": "execute_result"
    }
   ],
   "source": [
    "os.getcwd()"
   ]
  },
  {
   "cell_type": "code",
   "execution_count": 41,
   "metadata": {},
   "outputs": [],
   "source": [
    "path=\"/Users/shannonballard/Springboard/Springboard_Capstone_2\"\n",
    "os.chdir(path) "
   ]
  },
  {
   "cell_type": "code",
   "execution_count": 42,
   "metadata": {},
   "outputs": [
    {
     "data": {
      "text/html": [
       "<div>\n",
       "<style scoped>\n",
       "    .dataframe tbody tr th:only-of-type {\n",
       "        vertical-align: middle;\n",
       "    }\n",
       "\n",
       "    .dataframe tbody tr th {\n",
       "        vertical-align: top;\n",
       "    }\n",
       "\n",
       "    .dataframe thead th {\n",
       "        text-align: right;\n",
       "    }\n",
       "</style>\n",
       "<table border=\"1\" class=\"dataframe\">\n",
       "  <thead>\n",
       "    <tr style=\"text-align: right;\">\n",
       "      <th></th>\n",
       "      <th>Patient</th>\n",
       "      <th>ID</th>\n",
       "      <th>age</th>\n",
       "      <th>eventdeath</th>\n",
       "      <th>survival</th>\n",
       "      <th>timerecurrence</th>\n",
       "      <th>chemo</th>\n",
       "      <th>hormonal</th>\n",
       "      <th>amputation</th>\n",
       "      <th>histtype</th>\n",
       "      <th>...</th>\n",
       "      <th>Contig36312_RC</th>\n",
       "      <th>Contig38980_RC</th>\n",
       "      <th>NM_000853</th>\n",
       "      <th>NM_000854</th>\n",
       "      <th>NM_000860</th>\n",
       "      <th>Contig29014_RC</th>\n",
       "      <th>Contig46616_RC</th>\n",
       "      <th>NM_000888</th>\n",
       "      <th>NM_000898</th>\n",
       "      <th>AF067420</th>\n",
       "    </tr>\n",
       "  </thead>\n",
       "  <tbody>\n",
       "    <tr>\n",
       "      <th>0</th>\n",
       "      <td>s122</td>\n",
       "      <td>18</td>\n",
       "      <td>43</td>\n",
       "      <td>0</td>\n",
       "      <td>14.817248</td>\n",
       "      <td>14.817248</td>\n",
       "      <td>0</td>\n",
       "      <td>0</td>\n",
       "      <td>1</td>\n",
       "      <td>1</td>\n",
       "      <td>...</td>\n",
       "      <td>0.591103</td>\n",
       "      <td>-0.355018</td>\n",
       "      <td>0.373644</td>\n",
       "      <td>-0.760690</td>\n",
       "      <td>-0.164025</td>\n",
       "      <td>-0.038726</td>\n",
       "      <td>0.237856</td>\n",
       "      <td>-0.087631</td>\n",
       "      <td>-0.369153</td>\n",
       "      <td>0.153795</td>\n",
       "    </tr>\n",
       "    <tr>\n",
       "      <th>1</th>\n",
       "      <td>s123</td>\n",
       "      <td>19</td>\n",
       "      <td>48</td>\n",
       "      <td>0</td>\n",
       "      <td>14.261465</td>\n",
       "      <td>14.261465</td>\n",
       "      <td>0</td>\n",
       "      <td>0</td>\n",
       "      <td>0</td>\n",
       "      <td>1</td>\n",
       "      <td>...</td>\n",
       "      <td>-0.199829</td>\n",
       "      <td>-0.001635</td>\n",
       "      <td>-0.062922</td>\n",
       "      <td>-0.682204</td>\n",
       "      <td>-0.220934</td>\n",
       "      <td>-0.100088</td>\n",
       "      <td>-0.466537</td>\n",
       "      <td>-0.231547</td>\n",
       "      <td>-0.643019</td>\n",
       "      <td>-0.014098</td>\n",
       "    </tr>\n",
       "    <tr>\n",
       "      <th>2</th>\n",
       "      <td>s124</td>\n",
       "      <td>20</td>\n",
       "      <td>38</td>\n",
       "      <td>0</td>\n",
       "      <td>6.644764</td>\n",
       "      <td>6.644764</td>\n",
       "      <td>0</td>\n",
       "      <td>0</td>\n",
       "      <td>0</td>\n",
       "      <td>1</td>\n",
       "      <td>...</td>\n",
       "      <td>0.328736</td>\n",
       "      <td>-0.047571</td>\n",
       "      <td>0.084228</td>\n",
       "      <td>-0.695950</td>\n",
       "      <td>-0.402840</td>\n",
       "      <td>-0.099965</td>\n",
       "      <td>0.110155</td>\n",
       "      <td>-0.114298</td>\n",
       "      <td>0.258495</td>\n",
       "      <td>-0.198911</td>\n",
       "    </tr>\n",
       "    <tr>\n",
       "      <th>3</th>\n",
       "      <td>s125</td>\n",
       "      <td>21</td>\n",
       "      <td>50</td>\n",
       "      <td>0</td>\n",
       "      <td>7.748118</td>\n",
       "      <td>7.748118</td>\n",
       "      <td>0</td>\n",
       "      <td>1</td>\n",
       "      <td>0</td>\n",
       "      <td>1</td>\n",
       "      <td>...</td>\n",
       "      <td>0.648861</td>\n",
       "      <td>-0.039088</td>\n",
       "      <td>0.182182</td>\n",
       "      <td>-0.524640</td>\n",
       "      <td>0.037320</td>\n",
       "      <td>-0.167688</td>\n",
       "      <td>-0.016790</td>\n",
       "      <td>-0.285344</td>\n",
       "      <td>-0.251188</td>\n",
       "      <td>0.862710</td>\n",
       "    </tr>\n",
       "    <tr>\n",
       "      <th>4</th>\n",
       "      <td>s126</td>\n",
       "      <td>22</td>\n",
       "      <td>38</td>\n",
       "      <td>0</td>\n",
       "      <td>6.436687</td>\n",
       "      <td>6.318960</td>\n",
       "      <td>0</td>\n",
       "      <td>0</td>\n",
       "      <td>1</td>\n",
       "      <td>1</td>\n",
       "      <td>...</td>\n",
       "      <td>-0.287538</td>\n",
       "      <td>-0.286893</td>\n",
       "      <td>0.057082</td>\n",
       "      <td>-0.565021</td>\n",
       "      <td>-0.105632</td>\n",
       "      <td>-0.108148</td>\n",
       "      <td>-0.405853</td>\n",
       "      <td>-0.053601</td>\n",
       "      <td>-0.677072</td>\n",
       "      <td>0.134160</td>\n",
       "    </tr>\n",
       "  </tbody>\n",
       "</table>\n",
       "<p>5 rows × 1570 columns</p>\n",
       "</div>"
      ],
      "text/plain": [
       "  Patient  ID  age  eventdeath   survival  timerecurrence  chemo  hormonal  \\\n",
       "0    s122  18   43           0  14.817248       14.817248      0         0   \n",
       "1    s123  19   48           0  14.261465       14.261465      0         0   \n",
       "2    s124  20   38           0   6.644764        6.644764      0         0   \n",
       "3    s125  21   50           0   7.748118        7.748118      0         1   \n",
       "4    s126  22   38           0   6.436687        6.318960      0         0   \n",
       "\n",
       "   amputation  histtype  ...  Contig36312_RC  Contig38980_RC  NM_000853  \\\n",
       "0           1         1  ...        0.591103       -0.355018   0.373644   \n",
       "1           0         1  ...       -0.199829       -0.001635  -0.062922   \n",
       "2           0         1  ...        0.328736       -0.047571   0.084228   \n",
       "3           0         1  ...        0.648861       -0.039088   0.182182   \n",
       "4           1         1  ...       -0.287538       -0.286893   0.057082   \n",
       "\n",
       "   NM_000854  NM_000860  Contig29014_RC  Contig46616_RC  NM_000888  NM_000898  \\\n",
       "0  -0.760690  -0.164025       -0.038726        0.237856  -0.087631  -0.369153   \n",
       "1  -0.682204  -0.220934       -0.100088       -0.466537  -0.231547  -0.643019   \n",
       "2  -0.695950  -0.402840       -0.099965        0.110155  -0.114298   0.258495   \n",
       "3  -0.524640   0.037320       -0.167688       -0.016790  -0.285344  -0.251188   \n",
       "4  -0.565021  -0.105632       -0.108148       -0.405853  -0.053601  -0.677072   \n",
       "\n",
       "   AF067420  \n",
       "0  0.153795  \n",
       "1 -0.014098  \n",
       "2 -0.198911  \n",
       "3  0.862710  \n",
       "4  0.134160  \n",
       "\n",
       "[5 rows x 1570 columns]"
      ]
     },
     "execution_count": 42,
     "metadata": {},
     "output_type": "execute_result"
    }
   ],
   "source": [
    "#load the data into pandas df and print the first five rows\n",
    "nki_bc = pd.read_csv('NKI_breast_cancer.csv')\n",
    "nki_bc.head()"
   ]
  },
  {
   "cell_type": "markdown",
   "metadata": {},
   "source": [
    "## Data Organization"
   ]
  },
  {
   "cell_type": "code",
   "execution_count": 43,
   "metadata": {},
   "outputs": [],
   "source": [
    "#Create subfolders called data and figures\n",
    "folder = '/Users/shannonballard/Springboard/Springboard_Capstone_2/data'\n",
    "if not (os.path.exists(folder)):\n",
    "    os.makedirs(folder)\n",
    "    \n",
    "folder2 = '/Users/shannonballard/Springboard/Springboard_Capstone_2/figures'\n",
    "if not (os.path.exists(folder2)):\n",
    "    os.makedirs(folder2)"
   ]
  },
  {
   "cell_type": "code",
   "execution_count": 44,
   "metadata": {},
   "outputs": [
    {
     "data": {
      "text/plain": [
       "['Capstone_2_Final_Report.pdf',\n",
       " 'Capstone_2_EDA.ipynb',\n",
       " 'Untitled1.ipynb',\n",
       " 'nki_bc_for_model.csv',\n",
       " 'Capstone_2_Modeling.ipynb',\n",
       " 'Logistic Regresion Random Forest metrics.png',\n",
       " 'Untitled3.ipynb',\n",
       " 'Final Report.ipynb',\n",
       " 'Untitled.ipynb',\n",
       " 'Description of Data.png',\n",
       " 'Logistic Regression Confusion Matrix.png',\n",
       " 'Logistic Regression features table.png',\n",
       " 'Untitled2.ipynb',\n",
       " 'Cox Calibration.png',\n",
       " 'Ten Features with the Greatest p-values.png',\n",
       " 'Survival Tiem in Breast Cancer Patients.png',\n",
       " 'Features pvalue fold dif of 2.png',\n",
       " 'Fortis Beak Length.png',\n",
       " 'Logistic Regression Top 10 positive features.png',\n",
       " 'Capstone_2_Final_Report.ipynb',\n",
       " 'Survival Analysis Hazard ratio features table.png',\n",
       " 'figures',\n",
       " 'Random Forest tuned Top 10 features.png',\n",
       " 'nki_bc_cleaned.csv',\n",
       " 'Patient Survival time.png',\n",
       " 'Capstone_2_Preprocessing and Training Data.ipynb',\n",
       " 'Random Forest Confusion Matrix.png',\n",
       " '.ipynb_checkpoints',\n",
       " 'table_plotly.png',\n",
       " 'Gene pairplot.png',\n",
       " 'Survival Time in Breast Cancer Patients.png',\n",
       " 'Random Forest Top 10 features.png',\n",
       " 'Logistic Regression Top 10 negative features.png',\n",
       " 'Capstone2_DW.ipynb',\n",
       " 'data',\n",
       " 'Logistic Regression Random Forest ROC curves.png',\n",
       " 'Significant Logistic Regression features table.png',\n",
       " 'NKI_breast_cancer.csv']"
      ]
     },
     "execution_count": 44,
     "metadata": {},
     "output_type": "execute_result"
    }
   ],
   "source": [
    "os.listdir()"
   ]
  },
  {
   "cell_type": "markdown",
   "metadata": {},
   "source": [
    "## Data Definition"
   ]
  },
  {
   "cell_type": "code",
   "execution_count": 45,
   "metadata": {},
   "outputs": [
    {
     "data": {
      "text/plain": [
       "Index(['Patient', 'ID', 'age', 'eventdeath', 'survival', 'timerecurrence',\n",
       "       'chemo', 'hormonal', 'amputation', 'histtype',\n",
       "       ...\n",
       "       'Contig36312_RC', 'Contig38980_RC', 'NM_000853', 'NM_000854',\n",
       "       'NM_000860', 'Contig29014_RC', 'Contig46616_RC', 'NM_000888',\n",
       "       'NM_000898', 'AF067420'],\n",
       "      dtype='object', length=1570)"
      ]
     },
     "execution_count": 45,
     "metadata": {},
     "output_type": "execute_result"
    }
   ],
   "source": [
    "#Print the columns names\n",
    "nki_bc.columns"
   ]
  },
  {
   "cell_type": "code",
   "execution_count": 46,
   "metadata": {},
   "outputs": [
    {
     "data": {
      "text/html": [
       "<div>\n",
       "<style scoped>\n",
       "    .dataframe tbody tr th:only-of-type {\n",
       "        vertical-align: middle;\n",
       "    }\n",
       "\n",
       "    .dataframe tbody tr th {\n",
       "        vertical-align: top;\n",
       "    }\n",
       "\n",
       "    .dataframe thead th {\n",
       "        text-align: right;\n",
       "    }\n",
       "</style>\n",
       "<table border=\"1\" class=\"dataframe\">\n",
       "  <thead>\n",
       "    <tr style=\"text-align: right;\">\n",
       "      <th></th>\n",
       "      <th>Col_name</th>\n",
       "      <th>dtype</th>\n",
       "    </tr>\n",
       "  </thead>\n",
       "  <tbody>\n",
       "    <tr>\n",
       "      <th>0</th>\n",
       "      <td>Patient</td>\n",
       "      <td>object</td>\n",
       "    </tr>\n",
       "    <tr>\n",
       "      <th>1</th>\n",
       "      <td>ID</td>\n",
       "      <td>int64</td>\n",
       "    </tr>\n",
       "    <tr>\n",
       "      <th>2</th>\n",
       "      <td>age</td>\n",
       "      <td>int64</td>\n",
       "    </tr>\n",
       "    <tr>\n",
       "      <th>3</th>\n",
       "      <td>eventdeath</td>\n",
       "      <td>int64</td>\n",
       "    </tr>\n",
       "    <tr>\n",
       "      <th>4</th>\n",
       "      <td>survival</td>\n",
       "      <td>float64</td>\n",
       "    </tr>\n",
       "    <tr>\n",
       "      <th>...</th>\n",
       "      <td>...</td>\n",
       "      <td>...</td>\n",
       "    </tr>\n",
       "    <tr>\n",
       "      <th>1565</th>\n",
       "      <td>Contig29014_RC</td>\n",
       "      <td>float64</td>\n",
       "    </tr>\n",
       "    <tr>\n",
       "      <th>1566</th>\n",
       "      <td>Contig46616_RC</td>\n",
       "      <td>float64</td>\n",
       "    </tr>\n",
       "    <tr>\n",
       "      <th>1567</th>\n",
       "      <td>NM_000888</td>\n",
       "      <td>float64</td>\n",
       "    </tr>\n",
       "    <tr>\n",
       "      <th>1568</th>\n",
       "      <td>NM_000898</td>\n",
       "      <td>float64</td>\n",
       "    </tr>\n",
       "    <tr>\n",
       "      <th>1569</th>\n",
       "      <td>AF067420</td>\n",
       "      <td>float64</td>\n",
       "    </tr>\n",
       "  </tbody>\n",
       "</table>\n",
       "<p>1570 rows × 2 columns</p>\n",
       "</div>"
      ],
      "text/plain": [
       "            Col_name    dtype\n",
       "0            Patient   object\n",
       "1                 ID    int64\n",
       "2                age    int64\n",
       "3         eventdeath    int64\n",
       "4           survival  float64\n",
       "...              ...      ...\n",
       "1565  Contig29014_RC  float64\n",
       "1566  Contig46616_RC  float64\n",
       "1567       NM_000888  float64\n",
       "1568       NM_000898  float64\n",
       "1569        AF067420  float64\n",
       "\n",
       "[1570 rows x 2 columns]"
      ]
     },
     "execution_count": 46,
     "metadata": {},
     "output_type": "execute_result"
    }
   ],
   "source": [
    "#Check associated datatypes with columns\n",
    "nki_bc_dt = pd.DataFrame(nki_bc.dtypes)\n",
    "nki_bc_dt = nki_bc_dt.reset_index()\n",
    "nki_bc_dt.columns = ['Col_name','dtype']\n",
    "nki_bc_dt"
   ]
  },
  {
   "cell_type": "markdown",
   "metadata": {},
   "source": [
    "## Description of Columns\n",
    "\n",
    "| Variable |Details| Type |\n",
    "| --- | --- | --- |\n",
    "|Patient | Patient sample number | Continuous |\n",
    "|ID | Patient ID | Continuous |\n",
    "|age | Age at which patient was diagnosed with breast cancer | Continuous |\n",
    "|eventdeath | 0 = alive, 1 = death | Categorical |\n",
    "|survival | Time (in years) until death or last follow-up | Continuous |\n",
    "|timerecurrence | Time (in years) until cancer recurrence or last follow-up | Continuous |\n",
    "|chemo | chemotherapy used (yes=1/no=0) | Categorical |\n",
    "|hormonal | Hormonal therapy used (yes=1/no=0) | Categorical |\n",
    "|amputation | Mastectomy (yes = 1/no = 0) | Categorical |\n",
    "|histtype | Histological grade based on 3 morphological features | Categorical |\n",
    "|diam | Diameter of primary tumor | Continuous |\n",
    "|posnodes | number of lymph nodes that contained cancerous cells | Continuous |\n",
    "|grade | Pathological grade based on cell differentiation & growth rate (1=low, 2=intermediate, 3=high) | Categorical |\n",
    "|angioinv | Vascular invasion 1= absent, 2= minor, 3 = major | Categorical |\n",
    "|lymphinfil | level of lymphocytic infiltration | Categorical |\n",
    "|barcode | sample barcode | Continuous |\n",
    "|1,554 gene expression levels | each gene is provided as an individual variable; given as an intensity ratio to that of reference pool | Continuous |"
   ]
  },
  {
   "cell_type": "code",
   "execution_count": 47,
   "metadata": {},
   "outputs": [
    {
     "data": {
      "application/vnd.plotly.v1+json": {
       "config": {
        "plotlyServerURL": "https://plot.ly"
       },
       "data": [
        {
         "cells": {
          "values": [
           [
            "Patient",
            "ID",
            "age",
            "eventdeath",
            "survival",
            "timerecurrence",
            "chemo",
            "hormonal",
            "amputation",
            "histtype",
            "diam",
            "posnodes",
            "grade",
            "angioinv",
            "lymphinfil",
            "barcode",
            "1,554 Genes"
           ],
           [
            "Patient sample number",
            "Patient ID",
            "Age at which patient was diagnosed with breast cancer",
            "0 = alive, 1 = death",
            "Time (in years) until death or last follow-up",
            "Time (in years) until cancer recurrence or last follow-up",
            "chemotherapy used (yes=1/no=0)",
            "Hormonal therapy used (yes=1/no=0)",
            "Mastectomy (yes = 1/no = 0)",
            "Histological grade based on 3 morphological features",
            "Diameter of primary tumor",
            "number of lymph nodes that contained cancerous cells",
            "Pathological grade based on cell differentiation & growth rate (1=low, 2=intermediate, 3=high)",
            "Vascular invasion 1= absent, 2= minor, 3 = major",
            "level of lymphocytic infiltration",
            "sample barcode",
            "each gene is provided as an individual variable; given as an intensity ratio to that of reference pool"
           ],
           [
            "Continuous",
            "Continuous",
            "Continuous",
            "Categorical",
            "Continuous",
            "Continuous",
            "Categorical",
            "Categorical",
            "Categorical",
            "Categorical",
            "Continuous",
            "Continuous",
            "Categorical",
            "Categorical",
            "Categorical",
            "Continuous",
            "Continuous"
           ]
          ]
         },
         "columnwidth": [
          60,
          250,
          60
         ],
         "header": {
          "values": [
           "Variable",
           "Details",
           "Type"
          ]
         },
         "type": "table"
        }
       ],
       "layout": {
        "height": 600,
        "template": {
         "data": {
          "bar": [
           {
            "error_x": {
             "color": "#2a3f5f"
            },
            "error_y": {
             "color": "#2a3f5f"
            },
            "marker": {
             "line": {
              "color": "#E5ECF6",
              "width": 0.5
             }
            },
            "type": "bar"
           }
          ],
          "barpolar": [
           {
            "marker": {
             "line": {
              "color": "#E5ECF6",
              "width": 0.5
             }
            },
            "type": "barpolar"
           }
          ],
          "carpet": [
           {
            "aaxis": {
             "endlinecolor": "#2a3f5f",
             "gridcolor": "white",
             "linecolor": "white",
             "minorgridcolor": "white",
             "startlinecolor": "#2a3f5f"
            },
            "baxis": {
             "endlinecolor": "#2a3f5f",
             "gridcolor": "white",
             "linecolor": "white",
             "minorgridcolor": "white",
             "startlinecolor": "#2a3f5f"
            },
            "type": "carpet"
           }
          ],
          "choropleth": [
           {
            "colorbar": {
             "outlinewidth": 0,
             "ticks": ""
            },
            "type": "choropleth"
           }
          ],
          "contour": [
           {
            "colorbar": {
             "outlinewidth": 0,
             "ticks": ""
            },
            "colorscale": [
             [
              0,
              "#0d0887"
             ],
             [
              0.1111111111111111,
              "#46039f"
             ],
             [
              0.2222222222222222,
              "#7201a8"
             ],
             [
              0.3333333333333333,
              "#9c179e"
             ],
             [
              0.4444444444444444,
              "#bd3786"
             ],
             [
              0.5555555555555556,
              "#d8576b"
             ],
             [
              0.6666666666666666,
              "#ed7953"
             ],
             [
              0.7777777777777778,
              "#fb9f3a"
             ],
             [
              0.8888888888888888,
              "#fdca26"
             ],
             [
              1,
              "#f0f921"
             ]
            ],
            "type": "contour"
           }
          ],
          "contourcarpet": [
           {
            "colorbar": {
             "outlinewidth": 0,
             "ticks": ""
            },
            "type": "contourcarpet"
           }
          ],
          "heatmap": [
           {
            "colorbar": {
             "outlinewidth": 0,
             "ticks": ""
            },
            "colorscale": [
             [
              0,
              "#0d0887"
             ],
             [
              0.1111111111111111,
              "#46039f"
             ],
             [
              0.2222222222222222,
              "#7201a8"
             ],
             [
              0.3333333333333333,
              "#9c179e"
             ],
             [
              0.4444444444444444,
              "#bd3786"
             ],
             [
              0.5555555555555556,
              "#d8576b"
             ],
             [
              0.6666666666666666,
              "#ed7953"
             ],
             [
              0.7777777777777778,
              "#fb9f3a"
             ],
             [
              0.8888888888888888,
              "#fdca26"
             ],
             [
              1,
              "#f0f921"
             ]
            ],
            "type": "heatmap"
           }
          ],
          "heatmapgl": [
           {
            "colorbar": {
             "outlinewidth": 0,
             "ticks": ""
            },
            "colorscale": [
             [
              0,
              "#0d0887"
             ],
             [
              0.1111111111111111,
              "#46039f"
             ],
             [
              0.2222222222222222,
              "#7201a8"
             ],
             [
              0.3333333333333333,
              "#9c179e"
             ],
             [
              0.4444444444444444,
              "#bd3786"
             ],
             [
              0.5555555555555556,
              "#d8576b"
             ],
             [
              0.6666666666666666,
              "#ed7953"
             ],
             [
              0.7777777777777778,
              "#fb9f3a"
             ],
             [
              0.8888888888888888,
              "#fdca26"
             ],
             [
              1,
              "#f0f921"
             ]
            ],
            "type": "heatmapgl"
           }
          ],
          "histogram": [
           {
            "marker": {
             "colorbar": {
              "outlinewidth": 0,
              "ticks": ""
             }
            },
            "type": "histogram"
           }
          ],
          "histogram2d": [
           {
            "colorbar": {
             "outlinewidth": 0,
             "ticks": ""
            },
            "colorscale": [
             [
              0,
              "#0d0887"
             ],
             [
              0.1111111111111111,
              "#46039f"
             ],
             [
              0.2222222222222222,
              "#7201a8"
             ],
             [
              0.3333333333333333,
              "#9c179e"
             ],
             [
              0.4444444444444444,
              "#bd3786"
             ],
             [
              0.5555555555555556,
              "#d8576b"
             ],
             [
              0.6666666666666666,
              "#ed7953"
             ],
             [
              0.7777777777777778,
              "#fb9f3a"
             ],
             [
              0.8888888888888888,
              "#fdca26"
             ],
             [
              1,
              "#f0f921"
             ]
            ],
            "type": "histogram2d"
           }
          ],
          "histogram2dcontour": [
           {
            "colorbar": {
             "outlinewidth": 0,
             "ticks": ""
            },
            "colorscale": [
             [
              0,
              "#0d0887"
             ],
             [
              0.1111111111111111,
              "#46039f"
             ],
             [
              0.2222222222222222,
              "#7201a8"
             ],
             [
              0.3333333333333333,
              "#9c179e"
             ],
             [
              0.4444444444444444,
              "#bd3786"
             ],
             [
              0.5555555555555556,
              "#d8576b"
             ],
             [
              0.6666666666666666,
              "#ed7953"
             ],
             [
              0.7777777777777778,
              "#fb9f3a"
             ],
             [
              0.8888888888888888,
              "#fdca26"
             ],
             [
              1,
              "#f0f921"
             ]
            ],
            "type": "histogram2dcontour"
           }
          ],
          "mesh3d": [
           {
            "colorbar": {
             "outlinewidth": 0,
             "ticks": ""
            },
            "type": "mesh3d"
           }
          ],
          "parcoords": [
           {
            "line": {
             "colorbar": {
              "outlinewidth": 0,
              "ticks": ""
             }
            },
            "type": "parcoords"
           }
          ],
          "pie": [
           {
            "automargin": true,
            "type": "pie"
           }
          ],
          "scatter": [
           {
            "marker": {
             "colorbar": {
              "outlinewidth": 0,
              "ticks": ""
             }
            },
            "type": "scatter"
           }
          ],
          "scatter3d": [
           {
            "line": {
             "colorbar": {
              "outlinewidth": 0,
              "ticks": ""
             }
            },
            "marker": {
             "colorbar": {
              "outlinewidth": 0,
              "ticks": ""
             }
            },
            "type": "scatter3d"
           }
          ],
          "scattercarpet": [
           {
            "marker": {
             "colorbar": {
              "outlinewidth": 0,
              "ticks": ""
             }
            },
            "type": "scattercarpet"
           }
          ],
          "scattergeo": [
           {
            "marker": {
             "colorbar": {
              "outlinewidth": 0,
              "ticks": ""
             }
            },
            "type": "scattergeo"
           }
          ],
          "scattergl": [
           {
            "marker": {
             "colorbar": {
              "outlinewidth": 0,
              "ticks": ""
             }
            },
            "type": "scattergl"
           }
          ],
          "scattermapbox": [
           {
            "marker": {
             "colorbar": {
              "outlinewidth": 0,
              "ticks": ""
             }
            },
            "type": "scattermapbox"
           }
          ],
          "scatterpolar": [
           {
            "marker": {
             "colorbar": {
              "outlinewidth": 0,
              "ticks": ""
             }
            },
            "type": "scatterpolar"
           }
          ],
          "scatterpolargl": [
           {
            "marker": {
             "colorbar": {
              "outlinewidth": 0,
              "ticks": ""
             }
            },
            "type": "scatterpolargl"
           }
          ],
          "scatterternary": [
           {
            "marker": {
             "colorbar": {
              "outlinewidth": 0,
              "ticks": ""
             }
            },
            "type": "scatterternary"
           }
          ],
          "surface": [
           {
            "colorbar": {
             "outlinewidth": 0,
             "ticks": ""
            },
            "colorscale": [
             [
              0,
              "#0d0887"
             ],
             [
              0.1111111111111111,
              "#46039f"
             ],
             [
              0.2222222222222222,
              "#7201a8"
             ],
             [
              0.3333333333333333,
              "#9c179e"
             ],
             [
              0.4444444444444444,
              "#bd3786"
             ],
             [
              0.5555555555555556,
              "#d8576b"
             ],
             [
              0.6666666666666666,
              "#ed7953"
             ],
             [
              0.7777777777777778,
              "#fb9f3a"
             ],
             [
              0.8888888888888888,
              "#fdca26"
             ],
             [
              1,
              "#f0f921"
             ]
            ],
            "type": "surface"
           }
          ],
          "table": [
           {
            "cells": {
             "fill": {
              "color": "#EBF0F8"
             },
             "line": {
              "color": "white"
             }
            },
            "header": {
             "fill": {
              "color": "#C8D4E3"
             },
             "line": {
              "color": "white"
             }
            },
            "type": "table"
           }
          ]
         },
         "layout": {
          "annotationdefaults": {
           "arrowcolor": "#2a3f5f",
           "arrowhead": 0,
           "arrowwidth": 1
          },
          "coloraxis": {
           "colorbar": {
            "outlinewidth": 0,
            "ticks": ""
           }
          },
          "colorscale": {
           "diverging": [
            [
             0,
             "#8e0152"
            ],
            [
             0.1,
             "#c51b7d"
            ],
            [
             0.2,
             "#de77ae"
            ],
            [
             0.3,
             "#f1b6da"
            ],
            [
             0.4,
             "#fde0ef"
            ],
            [
             0.5,
             "#f7f7f7"
            ],
            [
             0.6,
             "#e6f5d0"
            ],
            [
             0.7,
             "#b8e186"
            ],
            [
             0.8,
             "#7fbc41"
            ],
            [
             0.9,
             "#4d9221"
            ],
            [
             1,
             "#276419"
            ]
           ],
           "sequential": [
            [
             0,
             "#0d0887"
            ],
            [
             0.1111111111111111,
             "#46039f"
            ],
            [
             0.2222222222222222,
             "#7201a8"
            ],
            [
             0.3333333333333333,
             "#9c179e"
            ],
            [
             0.4444444444444444,
             "#bd3786"
            ],
            [
             0.5555555555555556,
             "#d8576b"
            ],
            [
             0.6666666666666666,
             "#ed7953"
            ],
            [
             0.7777777777777778,
             "#fb9f3a"
            ],
            [
             0.8888888888888888,
             "#fdca26"
            ],
            [
             1,
             "#f0f921"
            ]
           ],
           "sequentialminus": [
            [
             0,
             "#0d0887"
            ],
            [
             0.1111111111111111,
             "#46039f"
            ],
            [
             0.2222222222222222,
             "#7201a8"
            ],
            [
             0.3333333333333333,
             "#9c179e"
            ],
            [
             0.4444444444444444,
             "#bd3786"
            ],
            [
             0.5555555555555556,
             "#d8576b"
            ],
            [
             0.6666666666666666,
             "#ed7953"
            ],
            [
             0.7777777777777778,
             "#fb9f3a"
            ],
            [
             0.8888888888888888,
             "#fdca26"
            ],
            [
             1,
             "#f0f921"
            ]
           ]
          },
          "colorway": [
           "#636efa",
           "#EF553B",
           "#00cc96",
           "#ab63fa",
           "#FFA15A",
           "#19d3f3",
           "#FF6692",
           "#B6E880",
           "#FF97FF",
           "#FECB52"
          ],
          "font": {
           "color": "#2a3f5f"
          },
          "geo": {
           "bgcolor": "white",
           "lakecolor": "white",
           "landcolor": "#E5ECF6",
           "showlakes": true,
           "showland": true,
           "subunitcolor": "white"
          },
          "hoverlabel": {
           "align": "left"
          },
          "hovermode": "closest",
          "mapbox": {
           "style": "light"
          },
          "paper_bgcolor": "white",
          "plot_bgcolor": "#E5ECF6",
          "polar": {
           "angularaxis": {
            "gridcolor": "white",
            "linecolor": "white",
            "ticks": ""
           },
           "bgcolor": "#E5ECF6",
           "radialaxis": {
            "gridcolor": "white",
            "linecolor": "white",
            "ticks": ""
           }
          },
          "scene": {
           "xaxis": {
            "backgroundcolor": "#E5ECF6",
            "gridcolor": "white",
            "gridwidth": 2,
            "linecolor": "white",
            "showbackground": true,
            "ticks": "",
            "zerolinecolor": "white"
           },
           "yaxis": {
            "backgroundcolor": "#E5ECF6",
            "gridcolor": "white",
            "gridwidth": 2,
            "linecolor": "white",
            "showbackground": true,
            "ticks": "",
            "zerolinecolor": "white"
           },
           "zaxis": {
            "backgroundcolor": "#E5ECF6",
            "gridcolor": "white",
            "gridwidth": 2,
            "linecolor": "white",
            "showbackground": true,
            "ticks": "",
            "zerolinecolor": "white"
           }
          },
          "shapedefaults": {
           "line": {
            "color": "#2a3f5f"
           }
          },
          "ternary": {
           "aaxis": {
            "gridcolor": "white",
            "linecolor": "white",
            "ticks": ""
           },
           "baxis": {
            "gridcolor": "white",
            "linecolor": "white",
            "ticks": ""
           },
           "bgcolor": "#E5ECF6",
           "caxis": {
            "gridcolor": "white",
            "linecolor": "white",
            "ticks": ""
           }
          },
          "title": {
           "x": 0.05
          },
          "xaxis": {
           "automargin": true,
           "gridcolor": "white",
           "linecolor": "white",
           "ticks": "",
           "title": {
            "standoff": 15
           },
           "zerolinecolor": "white",
           "zerolinewidth": 2
          },
          "yaxis": {
           "automargin": true,
           "gridcolor": "white",
           "linecolor": "white",
           "ticks": "",
           "title": {
            "standoff": 15
           },
           "zerolinecolor": "white",
           "zerolinewidth": 2
          }
         }
        },
        "title": {
         "text": "Description of Data",
         "x": 0.5,
         "xanchor": "center",
         "y": 0.9,
         "yanchor": "top"
        },
        "width": 800
       }
      },
      "text/html": [
       "<div>                            <div id=\"ef63f341-6e7b-4876-be13-a5dcb581ccbd\" class=\"plotly-graph-div\" style=\"height:600px; width:800px;\"></div>            <script type=\"text/javascript\">                require([\"plotly\"], function(Plotly) {                    window.PLOTLYENV=window.PLOTLYENV || {};                                    if (document.getElementById(\"ef63f341-6e7b-4876-be13-a5dcb581ccbd\")) {                    Plotly.newPlot(                        \"ef63f341-6e7b-4876-be13-a5dcb581ccbd\",                        [{\"cells\": {\"values\": [[\"Patient\", \"ID\", \"age\", \"eventdeath\", \"survival\", \"timerecurrence\", \"chemo\", \"hormonal\", \"amputation\", \"histtype\", \"diam\", \"posnodes\", \"grade\", \"angioinv\", \"lymphinfil\", \"barcode\", \"1,554 Genes\"], [\"Patient sample number\", \"Patient ID\", \"Age at which patient was diagnosed with breast cancer\", \"0 = alive, 1 = death\", \"Time (in years) until death or last follow-up\", \"Time (in years) until cancer recurrence or last follow-up\", \"chemotherapy used (yes=1/no=0)\", \"Hormonal therapy used (yes=1/no=0)\", \"Mastectomy (yes = 1/no = 0)\", \"Histological grade based on 3 morphological features\", \"Diameter of primary tumor\", \"number of lymph nodes that contained cancerous cells\", \"Pathological grade based on cell differentiation & growth rate (1=low, 2=intermediate, 3=high)\", \"Vascular invasion 1= absent, 2= minor, 3 = major\", \"level of lymphocytic infiltration\", \"sample barcode\", \"each gene is provided as an individual variable; given as an intensity ratio to that of reference pool\"], [\"Continuous\", \"Continuous\", \"Continuous\", \"Categorical\", \"Continuous\", \"Continuous\", \"Categorical\", \"Categorical\", \"Categorical\", \"Categorical\", \"Continuous\", \"Continuous\", \"Categorical\", \"Categorical\", \"Categorical\", \"Continuous\", \"Continuous\"]]}, \"columnwidth\": [60, 250, 60], \"header\": {\"values\": [\"Variable\", \"Details\", \"Type\"]}, \"type\": \"table\"}],                        {\"height\": 600, \"template\": {\"data\": {\"bar\": [{\"error_x\": {\"color\": \"#2a3f5f\"}, \"error_y\": {\"color\": \"#2a3f5f\"}, \"marker\": {\"line\": {\"color\": \"#E5ECF6\", \"width\": 0.5}}, \"type\": \"bar\"}], \"barpolar\": [{\"marker\": {\"line\": {\"color\": \"#E5ECF6\", \"width\": 0.5}}, \"type\": \"barpolar\"}], \"carpet\": [{\"aaxis\": {\"endlinecolor\": \"#2a3f5f\", \"gridcolor\": \"white\", \"linecolor\": \"white\", \"minorgridcolor\": \"white\", \"startlinecolor\": \"#2a3f5f\"}, \"baxis\": {\"endlinecolor\": \"#2a3f5f\", \"gridcolor\": \"white\", \"linecolor\": \"white\", \"minorgridcolor\": \"white\", \"startlinecolor\": \"#2a3f5f\"}, \"type\": \"carpet\"}], \"choropleth\": [{\"colorbar\": {\"outlinewidth\": 0, \"ticks\": \"\"}, \"type\": \"choropleth\"}], \"contour\": [{\"colorbar\": {\"outlinewidth\": 0, \"ticks\": \"\"}, \"colorscale\": [[0.0, \"#0d0887\"], [0.1111111111111111, \"#46039f\"], [0.2222222222222222, \"#7201a8\"], [0.3333333333333333, \"#9c179e\"], [0.4444444444444444, \"#bd3786\"], [0.5555555555555556, \"#d8576b\"], [0.6666666666666666, \"#ed7953\"], [0.7777777777777778, \"#fb9f3a\"], [0.8888888888888888, \"#fdca26\"], [1.0, \"#f0f921\"]], \"type\": \"contour\"}], \"contourcarpet\": [{\"colorbar\": {\"outlinewidth\": 0, \"ticks\": \"\"}, \"type\": \"contourcarpet\"}], \"heatmap\": [{\"colorbar\": {\"outlinewidth\": 0, \"ticks\": \"\"}, \"colorscale\": [[0.0, \"#0d0887\"], [0.1111111111111111, \"#46039f\"], [0.2222222222222222, \"#7201a8\"], [0.3333333333333333, \"#9c179e\"], [0.4444444444444444, \"#bd3786\"], [0.5555555555555556, \"#d8576b\"], [0.6666666666666666, \"#ed7953\"], [0.7777777777777778, \"#fb9f3a\"], [0.8888888888888888, \"#fdca26\"], [1.0, \"#f0f921\"]], \"type\": \"heatmap\"}], \"heatmapgl\": [{\"colorbar\": {\"outlinewidth\": 0, \"ticks\": \"\"}, \"colorscale\": [[0.0, \"#0d0887\"], [0.1111111111111111, \"#46039f\"], [0.2222222222222222, \"#7201a8\"], [0.3333333333333333, \"#9c179e\"], [0.4444444444444444, \"#bd3786\"], [0.5555555555555556, \"#d8576b\"], [0.6666666666666666, \"#ed7953\"], [0.7777777777777778, \"#fb9f3a\"], [0.8888888888888888, \"#fdca26\"], [1.0, \"#f0f921\"]], \"type\": \"heatmapgl\"}], \"histogram\": [{\"marker\": {\"colorbar\": {\"outlinewidth\": 0, \"ticks\": \"\"}}, \"type\": \"histogram\"}], \"histogram2d\": [{\"colorbar\": {\"outlinewidth\": 0, \"ticks\": \"\"}, \"colorscale\": [[0.0, \"#0d0887\"], [0.1111111111111111, \"#46039f\"], [0.2222222222222222, \"#7201a8\"], [0.3333333333333333, \"#9c179e\"], [0.4444444444444444, \"#bd3786\"], [0.5555555555555556, \"#d8576b\"], [0.6666666666666666, \"#ed7953\"], [0.7777777777777778, \"#fb9f3a\"], [0.8888888888888888, \"#fdca26\"], [1.0, \"#f0f921\"]], \"type\": \"histogram2d\"}], \"histogram2dcontour\": [{\"colorbar\": {\"outlinewidth\": 0, \"ticks\": \"\"}, \"colorscale\": [[0.0, \"#0d0887\"], [0.1111111111111111, \"#46039f\"], [0.2222222222222222, \"#7201a8\"], [0.3333333333333333, \"#9c179e\"], [0.4444444444444444, \"#bd3786\"], [0.5555555555555556, \"#d8576b\"], [0.6666666666666666, \"#ed7953\"], [0.7777777777777778, \"#fb9f3a\"], [0.8888888888888888, \"#fdca26\"], [1.0, \"#f0f921\"]], \"type\": \"histogram2dcontour\"}], \"mesh3d\": [{\"colorbar\": {\"outlinewidth\": 0, \"ticks\": \"\"}, \"type\": \"mesh3d\"}], \"parcoords\": [{\"line\": {\"colorbar\": {\"outlinewidth\": 0, \"ticks\": \"\"}}, \"type\": \"parcoords\"}], \"pie\": [{\"automargin\": true, \"type\": \"pie\"}], \"scatter\": [{\"marker\": {\"colorbar\": {\"outlinewidth\": 0, \"ticks\": \"\"}}, \"type\": \"scatter\"}], \"scatter3d\": [{\"line\": {\"colorbar\": {\"outlinewidth\": 0, \"ticks\": \"\"}}, \"marker\": {\"colorbar\": {\"outlinewidth\": 0, \"ticks\": \"\"}}, \"type\": \"scatter3d\"}], \"scattercarpet\": [{\"marker\": {\"colorbar\": {\"outlinewidth\": 0, \"ticks\": \"\"}}, \"type\": \"scattercarpet\"}], \"scattergeo\": [{\"marker\": {\"colorbar\": {\"outlinewidth\": 0, \"ticks\": \"\"}}, \"type\": \"scattergeo\"}], \"scattergl\": [{\"marker\": {\"colorbar\": {\"outlinewidth\": 0, \"ticks\": \"\"}}, \"type\": \"scattergl\"}], \"scattermapbox\": [{\"marker\": {\"colorbar\": {\"outlinewidth\": 0, \"ticks\": \"\"}}, \"type\": \"scattermapbox\"}], \"scatterpolar\": [{\"marker\": {\"colorbar\": {\"outlinewidth\": 0, \"ticks\": \"\"}}, \"type\": \"scatterpolar\"}], \"scatterpolargl\": [{\"marker\": {\"colorbar\": {\"outlinewidth\": 0, \"ticks\": \"\"}}, \"type\": \"scatterpolargl\"}], \"scatterternary\": [{\"marker\": {\"colorbar\": {\"outlinewidth\": 0, \"ticks\": \"\"}}, \"type\": \"scatterternary\"}], \"surface\": [{\"colorbar\": {\"outlinewidth\": 0, \"ticks\": \"\"}, \"colorscale\": [[0.0, \"#0d0887\"], [0.1111111111111111, \"#46039f\"], [0.2222222222222222, \"#7201a8\"], [0.3333333333333333, \"#9c179e\"], [0.4444444444444444, \"#bd3786\"], [0.5555555555555556, \"#d8576b\"], [0.6666666666666666, \"#ed7953\"], [0.7777777777777778, \"#fb9f3a\"], [0.8888888888888888, \"#fdca26\"], [1.0, \"#f0f921\"]], \"type\": \"surface\"}], \"table\": [{\"cells\": {\"fill\": {\"color\": \"#EBF0F8\"}, \"line\": {\"color\": \"white\"}}, \"header\": {\"fill\": {\"color\": \"#C8D4E3\"}, \"line\": {\"color\": \"white\"}}, \"type\": \"table\"}]}, \"layout\": {\"annotationdefaults\": {\"arrowcolor\": \"#2a3f5f\", \"arrowhead\": 0, \"arrowwidth\": 1}, \"coloraxis\": {\"colorbar\": {\"outlinewidth\": 0, \"ticks\": \"\"}}, \"colorscale\": {\"diverging\": [[0, \"#8e0152\"], [0.1, \"#c51b7d\"], [0.2, \"#de77ae\"], [0.3, \"#f1b6da\"], [0.4, \"#fde0ef\"], [0.5, \"#f7f7f7\"], [0.6, \"#e6f5d0\"], [0.7, \"#b8e186\"], [0.8, \"#7fbc41\"], [0.9, \"#4d9221\"], [1, \"#276419\"]], \"sequential\": [[0.0, \"#0d0887\"], [0.1111111111111111, \"#46039f\"], [0.2222222222222222, \"#7201a8\"], [0.3333333333333333, \"#9c179e\"], [0.4444444444444444, \"#bd3786\"], [0.5555555555555556, \"#d8576b\"], [0.6666666666666666, \"#ed7953\"], [0.7777777777777778, \"#fb9f3a\"], [0.8888888888888888, \"#fdca26\"], [1.0, \"#f0f921\"]], \"sequentialminus\": [[0.0, \"#0d0887\"], [0.1111111111111111, \"#46039f\"], [0.2222222222222222, \"#7201a8\"], [0.3333333333333333, \"#9c179e\"], [0.4444444444444444, \"#bd3786\"], [0.5555555555555556, \"#d8576b\"], [0.6666666666666666, \"#ed7953\"], [0.7777777777777778, \"#fb9f3a\"], [0.8888888888888888, \"#fdca26\"], [1.0, \"#f0f921\"]]}, \"colorway\": [\"#636efa\", \"#EF553B\", \"#00cc96\", \"#ab63fa\", \"#FFA15A\", \"#19d3f3\", \"#FF6692\", \"#B6E880\", \"#FF97FF\", \"#FECB52\"], \"font\": {\"color\": \"#2a3f5f\"}, \"geo\": {\"bgcolor\": \"white\", \"lakecolor\": \"white\", \"landcolor\": \"#E5ECF6\", \"showlakes\": true, \"showland\": true, \"subunitcolor\": \"white\"}, \"hoverlabel\": {\"align\": \"left\"}, \"hovermode\": \"closest\", \"mapbox\": {\"style\": \"light\"}, \"paper_bgcolor\": \"white\", \"plot_bgcolor\": \"#E5ECF6\", \"polar\": {\"angularaxis\": {\"gridcolor\": \"white\", \"linecolor\": \"white\", \"ticks\": \"\"}, \"bgcolor\": \"#E5ECF6\", \"radialaxis\": {\"gridcolor\": \"white\", \"linecolor\": \"white\", \"ticks\": \"\"}}, \"scene\": {\"xaxis\": {\"backgroundcolor\": \"#E5ECF6\", \"gridcolor\": \"white\", \"gridwidth\": 2, \"linecolor\": \"white\", \"showbackground\": true, \"ticks\": \"\", \"zerolinecolor\": \"white\"}, \"yaxis\": {\"backgroundcolor\": \"#E5ECF6\", \"gridcolor\": \"white\", \"gridwidth\": 2, \"linecolor\": \"white\", \"showbackground\": true, \"ticks\": \"\", \"zerolinecolor\": \"white\"}, \"zaxis\": {\"backgroundcolor\": \"#E5ECF6\", \"gridcolor\": \"white\", \"gridwidth\": 2, \"linecolor\": \"white\", \"showbackground\": true, \"ticks\": \"\", \"zerolinecolor\": \"white\"}}, \"shapedefaults\": {\"line\": {\"color\": \"#2a3f5f\"}}, \"ternary\": {\"aaxis\": {\"gridcolor\": \"white\", \"linecolor\": \"white\", \"ticks\": \"\"}, \"baxis\": {\"gridcolor\": \"white\", \"linecolor\": \"white\", \"ticks\": \"\"}, \"bgcolor\": \"#E5ECF6\", \"caxis\": {\"gridcolor\": \"white\", \"linecolor\": \"white\", \"ticks\": \"\"}}, \"title\": {\"x\": 0.05}, \"xaxis\": {\"automargin\": true, \"gridcolor\": \"white\", \"linecolor\": \"white\", \"ticks\": \"\", \"title\": {\"standoff\": 15}, \"zerolinecolor\": \"white\", \"zerolinewidth\": 2}, \"yaxis\": {\"automargin\": true, \"gridcolor\": \"white\", \"linecolor\": \"white\", \"ticks\": \"\", \"title\": {\"standoff\": 15}, \"zerolinecolor\": \"white\", \"zerolinewidth\": 2}}}, \"title\": {\"text\": \"Description of Data\", \"x\": 0.5, \"xanchor\": \"center\", \"y\": 0.9, \"yanchor\": \"top\"}, \"width\": 800},                        {\"responsive\": true}                    ).then(function(){\n",
       "                            \n",
       "var gd = document.getElementById('ef63f341-6e7b-4876-be13-a5dcb581ccbd');\n",
       "var x = new MutationObserver(function (mutations, observer) {{\n",
       "        var display = window.getComputedStyle(gd).display;\n",
       "        if (!display || display === 'none') {{\n",
       "            console.log([gd, 'removed!']);\n",
       "            Plotly.purge(gd);\n",
       "            observer.disconnect();\n",
       "        }}\n",
       "}});\n",
       "\n",
       "// Listen for the removal of the full notebook cells\n",
       "var notebookContainer = gd.closest('#notebook-container');\n",
       "if (notebookContainer) {{\n",
       "    x.observe(notebookContainer, {childList: true});\n",
       "}}\n",
       "\n",
       "// Listen for the clearing of the current output cell\n",
       "var outputEl = gd.closest('.output');\n",
       "if (outputEl) {{\n",
       "    x.observe(outputEl, {childList: true});\n",
       "}}\n",
       "\n",
       "                        })                };                });            </script>        </div>"
      ]
     },
     "metadata": {},
     "output_type": "display_data"
    }
   ],
   "source": [
    "import plotly.graph_objects as go\n",
    "\n",
    "fig = go.Figure(data=[go.Table(columnwidth = [60,250, 60], header=dict(values=['Variable', 'Details', 'Type']),\n",
    "                 cells=dict(values=[['Patient', 'ID', 'age', 'eventdeath', 'survival', 'timerecurrence', 'chemo', 'hormonal',\n",
    "                                    'amputation', 'histtype', 'diam', 'posnodes', 'grade', 'angioinv', 'lymphinfil', 'barcode', '1,554 Genes'],\n",
    "                                    ['Patient sample number', 'Patient ID', 'Age at which patient was diagnosed with breast cancer',\n",
    "                                    '0 = alive, 1 = death', 'Time (in years) until death or last follow-up', 'Time (in years) until cancer recurrence or last follow-up',\n",
    "                                    'chemotherapy used (yes=1/no=0)', 'Hormonal therapy used (yes=1/no=0)', 'Mastectomy (yes = 1/no = 0)', \n",
    "                                    'Histological grade based on 3 morphological features', 'Diameter of primary tumor', 'number of lymph nodes that contained cancerous cells', \n",
    "                                    'Pathological grade based on cell differentiation & growth rate (1=low, 2=intermediate, 3=high)', 'Vascular invasion 1= absent, 2= minor, 3 = major', \n",
    "                                    'level of lymphocytic infiltration', 'sample barcode', 'each gene is provided as an individual variable; given as an intensity ratio to that of reference pool'],\n",
    "                                    ['Continuous', 'Continuous', 'Continuous', 'Categorical', 'Continuous', 'Continuous',\n",
    "                                    'Categorical', 'Categorical', 'Categorical', 'Categorical', 'Continuous', 'Continuous',\n",
    "                                    'Categorical', 'Categorical', 'Categorical', 'Continuous', 'Continuous']]))\n",
    "                     ])\n",
    "fig.update_layout(\n",
    "    title={\n",
    "        'text': \"Description of Data\",\n",
    "        'y':0.9,\n",
    "        'x':0.5,\n",
    "        'xanchor': 'center',\n",
    "        'yanchor': 'top'}, width=800,\n",
    "    height=600)\n",
    "fig.write_image('Description of Data.png')\n",
    "fig.show()"
   ]
  },
  {
   "cell_type": "code",
   "execution_count": 10,
   "metadata": {},
   "outputs": [
    {
     "data": {
      "text/plain": [
       "Patient           0\n",
       "ID                0\n",
       "age               0\n",
       "eventdeath        0\n",
       "survival          0\n",
       "                 ..\n",
       "Contig29014_RC    0\n",
       "Contig46616_RC    0\n",
       "NM_000888         0\n",
       "NM_000898         0\n",
       "AF067420          0\n",
       "Length: 1570, dtype: int64"
      ]
     },
     "execution_count": 10,
     "metadata": {},
     "output_type": "execute_result"
    }
   ],
   "source": [
    "#Are there missing values? Sum all missing values for each column\n",
    "nki_bc.isnull().sum()"
   ]
  },
  {
   "cell_type": "code",
   "execution_count": 11,
   "metadata": {},
   "outputs": [
    {
     "data": {
      "text/plain": [
       "0"
      ]
     },
     "execution_count": 11,
     "metadata": {},
     "output_type": "execute_result"
    }
   ],
   "source": [
    "#Are there missing values? Sum all missing values for entire df\n",
    "nki_bc.isnull().sum().sum()"
   ]
  },
  {
   "cell_type": "markdown",
   "metadata": {},
   "source": [
    "## There are no missing values"
   ]
  },
  {
   "cell_type": "code",
   "execution_count": 15,
   "metadata": {},
   "outputs": [
    {
     "name": "stdout",
     "output_type": "stream",
     "text": [
      "                     min       max\n",
      "Patient             s103        s9\n",
      "ID                    18       312\n",
      "age                   26        53\n",
      "eventdeath             0         1\n",
      "survival        0.711841   18.3409\n",
      "timerecurrence  0.271047   18.3409\n",
      "chemo                  0         1\n",
      "hormonal               0         1\n",
      "amputation             0         1\n",
      "histtype               1         7\n",
      "diam                   2        50\n",
      "posnodes               0        13\n",
      "grade                  1         3\n",
      "angioinv               1         3\n",
      "lymphinfil             1         3\n",
      "barcode             4256      6617\n",
      "esr1            -1.51165  0.596177\n",
      "G3PDH_570       -1.95124   1.89741\n",
      "Contig45645_RC        -2         2\n",
      "Contig44916_RC        -2         2\n"
     ]
    }
   ],
   "source": [
    "#What are the range of values for each column? Note: only showing some of genes measured\n",
    "nki_bc_range = nki_bc.agg([min, max])\n",
    "nki_bc_range = nki_bc_range.T\n",
    "print(nki_bc_range.head(20))"
   ]
  },
  {
   "cell_type": "code",
   "execution_count": 19,
   "metadata": {},
   "outputs": [
    {
     "data": {
      "text/html": [
       "<div>\n",
       "<style scoped>\n",
       "    .dataframe tbody tr th:only-of-type {\n",
       "        vertical-align: middle;\n",
       "    }\n",
       "\n",
       "    .dataframe tbody tr th {\n",
       "        vertical-align: top;\n",
       "    }\n",
       "\n",
       "    .dataframe thead th {\n",
       "        text-align: right;\n",
       "    }\n",
       "</style>\n",
       "<table border=\"1\" class=\"dataframe\">\n",
       "  <thead>\n",
       "    <tr style=\"text-align: right;\">\n",
       "      <th></th>\n",
       "      <th>age</th>\n",
       "      <th>eventdeath</th>\n",
       "      <th>survival</th>\n",
       "      <th>timerecurrence</th>\n",
       "      <th>chemo</th>\n",
       "      <th>hormonal</th>\n",
       "      <th>amputation</th>\n",
       "      <th>histtype</th>\n",
       "      <th>diam</th>\n",
       "      <th>posnodes</th>\n",
       "      <th>...</th>\n",
       "      <th>Contig36312_RC</th>\n",
       "      <th>Contig38980_RC</th>\n",
       "      <th>NM_000853</th>\n",
       "      <th>NM_000854</th>\n",
       "      <th>NM_000860</th>\n",
       "      <th>Contig29014_RC</th>\n",
       "      <th>Contig46616_RC</th>\n",
       "      <th>NM_000888</th>\n",
       "      <th>NM_000898</th>\n",
       "      <th>AF067420</th>\n",
       "    </tr>\n",
       "  </thead>\n",
       "  <tbody>\n",
       "  </tbody>\n",
       "</table>\n",
       "<p>0 rows × 1567 columns</p>\n",
       "</div>"
      ],
      "text/plain": [
       "Empty DataFrame\n",
       "Columns: [age, eventdeath, survival, timerecurrence, chemo, hormonal, amputation, histtype, diam, posnodes, grade, angioinv, lymphinfil, esr1, G3PDH_570, Contig45645_RC, Contig44916_RC, D25272, J00129, Contig29982_RC, Contig56678_RC, Contig53047_RC, Contig19551, Contig47230_RC, Contig46501_RC, Contig20749_RC, AL157500, AL157502, Contig37376_RC, Contig45395_RC, X98307, AL157505, AB033027, Contig24026_RC, Contig27800_RC, Contig42500_RC, Contig7147, Contig32037_RC, Contig16374_RC, Contig42349_RC, Contig33976_RC, Contig49874_RC, AB033060, U45975, M34428, AB033083, NM_003004, Contig7192, Contig23039_RC, Contig22685_RC, D84140, Contig43806_RC, NM_003022, Contig54847_RC, Contig33260_RC, NM_002300, Contig13929_RC, NM_002318, NM_003058, Contig66143_RC, Contig44519_RC, NM_001609, Contig17206_RC, NM_001611, NM_002341, NM_001612, NM_002343, NM_001615, NM_002345, NM_003081, NM_001627, NM_002358, Contig50838_RC, NM_000900, NM_000903, NM_001635, NM_000909, NM_000912, NM_001645, NM_001647, Contig35896_RC, NM_000926, NM_001657, NM_000930, NM_000931, NM_000936, NM_002395, NM_001674, NM_001676, NM_001677, X04706, D25328, Contig37076, Contig44366, NM_000959, Contig46463_RC, Contig5443_RC, NM_001692, NM_000963, NM_000964, ...]\n",
       "Index: []\n",
       "\n",
       "[0 rows x 1567 columns]"
      ]
     },
     "execution_count": 19,
     "metadata": {},
     "output_type": "execute_result"
    }
   ],
   "source": [
    "# Check for duplicate rows\n",
    "nki_duplicateRows = nki_bc[nki_bc.duplicated()]\n",
    "nki_duplicateRows"
   ]
  },
  {
   "cell_type": "markdown",
   "metadata": {},
   "source": [
    "## There are no duplicate rows"
   ]
  },
  {
   "cell_type": "code",
   "execution_count": 16,
   "metadata": {},
   "outputs": [
    {
     "data": {
      "text/html": [
       "<div>\n",
       "<style scoped>\n",
       "    .dataframe tbody tr th:only-of-type {\n",
       "        vertical-align: middle;\n",
       "    }\n",
       "\n",
       "    .dataframe tbody tr th {\n",
       "        vertical-align: top;\n",
       "    }\n",
       "\n",
       "    .dataframe thead th {\n",
       "        text-align: right;\n",
       "    }\n",
       "</style>\n",
       "<table border=\"1\" class=\"dataframe\">\n",
       "  <thead>\n",
       "    <tr style=\"text-align: right;\">\n",
       "      <th></th>\n",
       "      <th>ID</th>\n",
       "      <th>age</th>\n",
       "      <th>eventdeath</th>\n",
       "      <th>survival</th>\n",
       "      <th>timerecurrence</th>\n",
       "      <th>chemo</th>\n",
       "      <th>hormonal</th>\n",
       "      <th>amputation</th>\n",
       "      <th>histtype</th>\n",
       "      <th>diam</th>\n",
       "      <th>...</th>\n",
       "      <th>Contig36312_RC</th>\n",
       "      <th>Contig38980_RC</th>\n",
       "      <th>NM_000853</th>\n",
       "      <th>NM_000854</th>\n",
       "      <th>NM_000860</th>\n",
       "      <th>Contig29014_RC</th>\n",
       "      <th>Contig46616_RC</th>\n",
       "      <th>NM_000888</th>\n",
       "      <th>NM_000898</th>\n",
       "      <th>AF067420</th>\n",
       "    </tr>\n",
       "  </thead>\n",
       "  <tbody>\n",
       "    <tr>\n",
       "      <th>count</th>\n",
       "      <td>272.000000</td>\n",
       "      <td>272.000000</td>\n",
       "      <td>272.000000</td>\n",
       "      <td>272.000000</td>\n",
       "      <td>272.000000</td>\n",
       "      <td>272.000000</td>\n",
       "      <td>272.000000</td>\n",
       "      <td>272.000000</td>\n",
       "      <td>272.000000</td>\n",
       "      <td>272.000000</td>\n",
       "      <td>...</td>\n",
       "      <td>272.000000</td>\n",
       "      <td>272.000000</td>\n",
       "      <td>272.000000</td>\n",
       "      <td>272.000000</td>\n",
       "      <td>272.000000</td>\n",
       "      <td>272.000000</td>\n",
       "      <td>272.000000</td>\n",
       "      <td>272.000000</td>\n",
       "      <td>272.000000</td>\n",
       "      <td>272.000000</td>\n",
       "    </tr>\n",
       "    <tr>\n",
       "      <th>mean</th>\n",
       "      <td>161.194853</td>\n",
       "      <td>44.047794</td>\n",
       "      <td>0.283088</td>\n",
       "      <td>8.080609</td>\n",
       "      <td>7.250433</td>\n",
       "      <td>0.393382</td>\n",
       "      <td>0.132353</td>\n",
       "      <td>0.441176</td>\n",
       "      <td>1.110294</td>\n",
       "      <td>22.529412</td>\n",
       "      <td>...</td>\n",
       "      <td>-0.137075</td>\n",
       "      <td>-0.049257</td>\n",
       "      <td>-0.109779</td>\n",
       "      <td>-0.222577</td>\n",
       "      <td>-0.116336</td>\n",
       "      <td>-0.015141</td>\n",
       "      <td>-0.057222</td>\n",
       "      <td>-0.038441</td>\n",
       "      <td>-0.240416</td>\n",
       "      <td>-0.252884</td>\n",
       "    </tr>\n",
       "    <tr>\n",
       "      <th>std</th>\n",
       "      <td>85.104899</td>\n",
       "      <td>5.464538</td>\n",
       "      <td>0.451329</td>\n",
       "      <td>3.904874</td>\n",
       "      <td>4.177462</td>\n",
       "      <td>0.489401</td>\n",
       "      <td>0.339499</td>\n",
       "      <td>0.497443</td>\n",
       "      <td>0.545668</td>\n",
       "      <td>8.703345</td>\n",
       "      <td>...</td>\n",
       "      <td>0.414608</td>\n",
       "      <td>0.248084</td>\n",
       "      <td>0.434717</td>\n",
       "      <td>0.421388</td>\n",
       "      <td>0.274243</td>\n",
       "      <td>0.323474</td>\n",
       "      <td>0.297915</td>\n",
       "      <td>0.246020</td>\n",
       "      <td>0.482092</td>\n",
       "      <td>0.472775</td>\n",
       "    </tr>\n",
       "    <tr>\n",
       "      <th>min</th>\n",
       "      <td>18.000000</td>\n",
       "      <td>26.000000</td>\n",
       "      <td>0.000000</td>\n",
       "      <td>0.711841</td>\n",
       "      <td>0.271047</td>\n",
       "      <td>0.000000</td>\n",
       "      <td>0.000000</td>\n",
       "      <td>0.000000</td>\n",
       "      <td>1.000000</td>\n",
       "      <td>2.000000</td>\n",
       "      <td>...</td>\n",
       "      <td>-1.071389</td>\n",
       "      <td>-0.641482</td>\n",
       "      <td>-1.363426</td>\n",
       "      <td>-1.252298</td>\n",
       "      <td>-0.841332</td>\n",
       "      <td>-2.000000</td>\n",
       "      <td>-0.871728</td>\n",
       "      <td>-0.593263</td>\n",
       "      <td>-1.679470</td>\n",
       "      <td>-2.000000</td>\n",
       "    </tr>\n",
       "    <tr>\n",
       "      <th>25%</th>\n",
       "      <td>86.750000</td>\n",
       "      <td>40.750000</td>\n",
       "      <td>0.000000</td>\n",
       "      <td>5.499738</td>\n",
       "      <td>4.389459</td>\n",
       "      <td>0.000000</td>\n",
       "      <td>0.000000</td>\n",
       "      <td>0.000000</td>\n",
       "      <td>1.000000</td>\n",
       "      <td>15.000000</td>\n",
       "      <td>...</td>\n",
       "      <td>-0.462427</td>\n",
       "      <td>-0.219615</td>\n",
       "      <td>-0.247377</td>\n",
       "      <td>-0.567609</td>\n",
       "      <td>-0.271186</td>\n",
       "      <td>-0.099996</td>\n",
       "      <td>-0.253693</td>\n",
       "      <td>-0.185253</td>\n",
       "      <td>-0.579311</td>\n",
       "      <td>-0.554709</td>\n",
       "    </tr>\n",
       "    <tr>\n",
       "      <th>50%</th>\n",
       "      <td>159.500000</td>\n",
       "      <td>45.000000</td>\n",
       "      <td>0.000000</td>\n",
       "      <td>7.359343</td>\n",
       "      <td>6.950034</td>\n",
       "      <td>0.000000</td>\n",
       "      <td>0.000000</td>\n",
       "      <td>0.000000</td>\n",
       "      <td>1.000000</td>\n",
       "      <td>20.000000</td>\n",
       "      <td>...</td>\n",
       "      <td>-0.098875</td>\n",
       "      <td>-0.055215</td>\n",
       "      <td>0.008589</td>\n",
       "      <td>-0.223481</td>\n",
       "      <td>-0.137765</td>\n",
       "      <td>-0.002994</td>\n",
       "      <td>-0.052311</td>\n",
       "      <td>-0.071930</td>\n",
       "      <td>-0.213541</td>\n",
       "      <td>-0.254435</td>\n",
       "    </tr>\n",
       "    <tr>\n",
       "      <th>75%</th>\n",
       "      <td>235.250000</td>\n",
       "      <td>49.000000</td>\n",
       "      <td>1.000000</td>\n",
       "      <td>10.512662</td>\n",
       "      <td>9.986311</td>\n",
       "      <td>1.000000</td>\n",
       "      <td>0.000000</td>\n",
       "      <td>1.000000</td>\n",
       "      <td>1.000000</td>\n",
       "      <td>29.250000</td>\n",
       "      <td>...</td>\n",
       "      <td>0.147836</td>\n",
       "      <td>0.119754</td>\n",
       "      <td>0.162106</td>\n",
       "      <td>0.072289</td>\n",
       "      <td>-0.022088</td>\n",
       "      <td>0.074571</td>\n",
       "      <td>0.166774</td>\n",
       "      <td>0.100221</td>\n",
       "      <td>0.116691</td>\n",
       "      <td>0.051704</td>\n",
       "    </tr>\n",
       "    <tr>\n",
       "      <th>max</th>\n",
       "      <td>312.000000</td>\n",
       "      <td>53.000000</td>\n",
       "      <td>1.000000</td>\n",
       "      <td>18.340862</td>\n",
       "      <td>18.340862</td>\n",
       "      <td>1.000000</td>\n",
       "      <td>1.000000</td>\n",
       "      <td>1.000000</td>\n",
       "      <td>7.000000</td>\n",
       "      <td>50.000000</td>\n",
       "      <td>...</td>\n",
       "      <td>0.739614</td>\n",
       "      <td>0.635155</td>\n",
       "      <td>1.009289</td>\n",
       "      <td>1.324539</td>\n",
       "      <td>1.173276</td>\n",
       "      <td>2.000000</td>\n",
       "      <td>0.591880</td>\n",
       "      <td>0.993960</td>\n",
       "      <td>1.298576</td>\n",
       "      <td>0.988492</td>\n",
       "    </tr>\n",
       "  </tbody>\n",
       "</table>\n",
       "<p>8 rows × 1569 columns</p>\n",
       "</div>"
      ],
      "text/plain": [
       "               ID         age  eventdeath    survival  timerecurrence  \\\n",
       "count  272.000000  272.000000  272.000000  272.000000      272.000000   \n",
       "mean   161.194853   44.047794    0.283088    8.080609        7.250433   \n",
       "std     85.104899    5.464538    0.451329    3.904874        4.177462   \n",
       "min     18.000000   26.000000    0.000000    0.711841        0.271047   \n",
       "25%     86.750000   40.750000    0.000000    5.499738        4.389459   \n",
       "50%    159.500000   45.000000    0.000000    7.359343        6.950034   \n",
       "75%    235.250000   49.000000    1.000000   10.512662        9.986311   \n",
       "max    312.000000   53.000000    1.000000   18.340862       18.340862   \n",
       "\n",
       "            chemo    hormonal  amputation    histtype        diam  ...  \\\n",
       "count  272.000000  272.000000  272.000000  272.000000  272.000000  ...   \n",
       "mean     0.393382    0.132353    0.441176    1.110294   22.529412  ...   \n",
       "std      0.489401    0.339499    0.497443    0.545668    8.703345  ...   \n",
       "min      0.000000    0.000000    0.000000    1.000000    2.000000  ...   \n",
       "25%      0.000000    0.000000    0.000000    1.000000   15.000000  ...   \n",
       "50%      0.000000    0.000000    0.000000    1.000000   20.000000  ...   \n",
       "75%      1.000000    0.000000    1.000000    1.000000   29.250000  ...   \n",
       "max      1.000000    1.000000    1.000000    7.000000   50.000000  ...   \n",
       "\n",
       "       Contig36312_RC  Contig38980_RC   NM_000853   NM_000854   NM_000860  \\\n",
       "count      272.000000      272.000000  272.000000  272.000000  272.000000   \n",
       "mean        -0.137075       -0.049257   -0.109779   -0.222577   -0.116336   \n",
       "std          0.414608        0.248084    0.434717    0.421388    0.274243   \n",
       "min         -1.071389       -0.641482   -1.363426   -1.252298   -0.841332   \n",
       "25%         -0.462427       -0.219615   -0.247377   -0.567609   -0.271186   \n",
       "50%         -0.098875       -0.055215    0.008589   -0.223481   -0.137765   \n",
       "75%          0.147836        0.119754    0.162106    0.072289   -0.022088   \n",
       "max          0.739614        0.635155    1.009289    1.324539    1.173276   \n",
       "\n",
       "       Contig29014_RC  Contig46616_RC   NM_000888   NM_000898    AF067420  \n",
       "count      272.000000      272.000000  272.000000  272.000000  272.000000  \n",
       "mean        -0.015141       -0.057222   -0.038441   -0.240416   -0.252884  \n",
       "std          0.323474        0.297915    0.246020    0.482092    0.472775  \n",
       "min         -2.000000       -0.871728   -0.593263   -1.679470   -2.000000  \n",
       "25%         -0.099996       -0.253693   -0.185253   -0.579311   -0.554709  \n",
       "50%         -0.002994       -0.052311   -0.071930   -0.213541   -0.254435  \n",
       "75%          0.074571        0.166774    0.100221    0.116691    0.051704  \n",
       "max          2.000000        0.591880    0.993960    1.298576    0.988492  \n",
       "\n",
       "[8 rows x 1569 columns]"
      ]
     },
     "execution_count": 16,
     "metadata": {},
     "output_type": "execute_result"
    }
   ],
   "source": [
    "#Review summary statistics\n",
    "nki_bc.describe()"
   ]
  },
  {
   "cell_type": "markdown",
   "metadata": {},
   "source": [
    "## Data Cleaning"
   ]
  },
  {
   "cell_type": "code",
   "execution_count": 17,
   "metadata": {},
   "outputs": [
    {
     "data": {
      "text/plain": [
       "Index(['age', 'eventdeath', 'survival', 'timerecurrence', 'chemo', 'hormonal',\n",
       "       'amputation', 'histtype', 'diam', 'posnodes',\n",
       "       ...\n",
       "       'Contig36312_RC', 'Contig38980_RC', 'NM_000853', 'NM_000854',\n",
       "       'NM_000860', 'Contig29014_RC', 'Contig46616_RC', 'NM_000888',\n",
       "       'NM_000898', 'AF067420'],\n",
       "      dtype='object', length=1567)"
      ]
     },
     "execution_count": 17,
     "metadata": {},
     "output_type": "execute_result"
    }
   ],
   "source": [
    "#Do not need patient, ID, or barcode columns - remove from df\n",
    "nki_bc = nki_bc.drop([\"Patient\", \"ID\", \"barcode\"], axis=1)\n",
    "nki_bc.columns"
   ]
  },
  {
   "cell_type": "code",
   "execution_count": 30,
   "metadata": {},
   "outputs": [
    {
     "data": {
      "image/png": "[encoded data removed]",
      "text/plain": [
       "<Figure size 1440x720 with 1 Axes>"
      ]
     },
     "metadata": {
      "needs_background": "light"
     },
     "output_type": "display_data"
    }
   ],
   "source": [
    "#Check for outliers for continuous variables - except gene expresion levels\n",
    "plt.figure(figsize=(20,10))\n",
    "boxplot = nki_bc.boxplot(column = ['age', 'survival', 'timerecurrence', 'diam', 'posnodes'], grid=False, fontsize=15)"
   ]
  },
  {
   "cell_type": "code",
   "execution_count": 32,
   "metadata": {},
   "outputs": [
    {
     "data": {
      "image/png": "[encoded data removed]",
      "text/plain": [
       "<Figure size 1440x720 with 1 Axes>"
      ]
     },
     "metadata": {
      "needs_background": "light"
     },
     "output_type": "display_data"
    }
   ],
   "source": [
    "#Check for outliers for a few gene expresion levels\n",
    "plt.figure(figsize=(20,10))\n",
    "boxplot = nki_bc.boxplot(column = ['esr1', 'G3PDH_570', 'Contig45645_RC', 'Contig44916_RC', 'D25272', 'J00129', 'Contig29982_RC'], grid=False, fontsize=15)"
   ]
  },
  {
   "cell_type": "markdown",
   "metadata": {},
   "source": [
    "### While the above graph displays high variation in gene expression levels, the range is consistently between 2 and -2. This is based on an intensity ratio to that of a reference pool."
   ]
  },
  {
   "cell_type": "code",
   "execution_count": null,
   "metadata": {},
   "outputs": [],
   "source": []
  }
 ],
 "metadata": {
  "kernelspec": {
   "display_name": "Python 3",
   "language": "python",
   "name": "python3"
  },
  "language_info": {
   "codemirror_mode": {
    "name": "ipython",
    "version": 3
   },
   "file_extension": ".py",
   "mimetype": "text/x-python",
   "name": "python",
   "nbconvert_exporter": "python",
   "pygments_lexer": "ipython3",
   "version": "3.7.6"
  }
 },
 "nbformat": 4,
 "nbformat_minor": 4
}
